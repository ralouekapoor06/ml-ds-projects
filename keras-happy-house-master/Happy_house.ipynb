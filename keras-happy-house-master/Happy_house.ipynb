{
 "cells": [
  {
   "cell_type": "code",
   "execution_count": 1,
   "metadata": {
    "collapsed": true
   },
   "outputs": [],
   "source": [
    "import warnings\n",
    "\n",
    "def fxn():\n",
    "    warnings.warn(\"deprecated\", DeprecationWarning)\n",
    "\n",
    "with warnings.catch_warnings():\n",
    "    warnings.simplefilter(\"ignore\")\n",
    "    fxn()"
   ]
  },
  {
   "cell_type": "code",
   "execution_count": 5,
   "metadata": {},
   "outputs": [],
   "source": [
    "import numpy as np \n",
    "import h5py\n",
    "from keras import layers\n",
    "from keras.layers import Input, Dense, Activation, ZeroPadding2D, BatchNormalization, Flatten, Conv2D\n",
    "from keras.layers import AveragePooling2D, MaxPooling2D, Dropout, GlobalMaxPooling2D, GlobalAveragePooling2D\n",
    "from keras.models import Model\n",
    "from keras.preprocessing import image\n",
    "from keras.utils import layer_utils\n",
    "from keras.utils.data_utils import get_file\n",
    "from keras.applications.imagenet_utils import preprocess_input"
   ]
  },
  {
   "cell_type": "code",
   "execution_count": 6,
   "metadata": {
    "collapsed": true
   },
   "outputs": [],
   "source": [
    "def load_dataset():\n",
    "    train_data = h5py.File('train_happy.h5', \"r\")\n",
    "    x_train = np.array(train_data[\"train_set_x\"][:]) \n",
    "    y_train = np.array(train_data[\"train_set_y\"][:]) \n",
    "\n",
    "    test_data = h5py.File('test_happy.h5', \"r\")\n",
    "    x_test = np.array(test_data[\"test_set_x\"][:])\n",
    "    y_test = np.array(test_data[\"test_set_y\"][:]) \n",
    "    \n",
    "    y_train = y_train.reshape((1, y_train.shape[0]))\n",
    "    y_test = y_test.reshape((1, y_test.shape[0]))\n",
    "    \n",
    "    return x_train, y_train, x_test, y_test"
   ]
  },
  {
   "cell_type": "code",
   "execution_count": 7,
   "metadata": {},
   "outputs": [],
   "source": [
    "X_train, Y_train, X_test, Y_test = load_dataset()"
   ]
  },
  {
   "cell_type": "code",
   "execution_count": 21,
   "metadata": {},
   "outputs": [],
   "source": [
    "def happy_model(input_shape):\n",
    "    x_input=Input(input_shape)\n",
    "    x=ZeroPadding2D((3,3))(x_input)#3,3 means that height and width pad if 2 diff tuples then top bottom in 1 and left right in other\n",
    "    x=Conv2D(32,(7,7),strides=(1,1),name='conv0')(x)#32 is the number of filters,7,7 is the filter size,1,1 is along the height and the width\n",
    "    x=BatchNormalization(axis=3,name='bn0')(x)#generally each of the channels in z is normalized\n",
    "    x=Activation('relu')(x)\n",
    "    x=MaxPooling2D((2,2),name='max_pool')(x)#this is the maxpool\n",
    "    x=Conv2D(32,(7,7),strides=(1,1),name='conv02')(x)#32 is the number of filters,7,7 is the filter size,1,1 is along the height and the width\n",
    "    x=BatchNormalization(axis=3,name='bn02')(x)#generally each of the channels in z is normalized\n",
    "    x=Activation('relu')(x)\n",
    "    x=MaxPooling2D((2,2),name='max_pool1')(x)#this is the maxpool\n",
    "    x=Flatten( )(x)\n",
    "    x=Dense(1,activation='sigmoid',name='fc1')(x)#1 is the dimentionality of the o/p space\n",
    "    model=Model(inputs=x_input,outputs=x,name='happymode')\n",
    "    return model"
   ]
  },
  {
   "cell_type": "code",
   "execution_count": 25,
   "metadata": {},
   "outputs": [
    {
     "name": "stdout",
     "output_type": "stream",
     "text": [
      "Epoch 1/30\n",
      "600/600 [==============================] - 10s - loss: 0.9479 - acc: 0.6433    \n",
      "Epoch 2/30\n",
      "600/600 [==============================] - 11s - loss: 0.3878 - acc: 0.8317    \n",
      "Epoch 3/30\n",
      "600/600 [==============================] - 10s - loss: 0.2549 - acc: 0.9267    \n",
      "Epoch 4/30\n",
      "600/600 [==============================] - 9s - loss: 0.1959 - acc: 0.9267     \n",
      "Epoch 5/30\n",
      "600/600 [==============================] - 10s - loss: 0.1575 - acc: 0.9500    \n",
      "Epoch 6/30\n",
      "600/600 [==============================] - 9s - loss: 0.1296 - acc: 0.9633     \n",
      "Epoch 7/30\n",
      "600/600 [==============================] - 10s - loss: 0.1066 - acc: 0.9700    \n",
      "Epoch 8/30\n",
      "600/600 [==============================] - 9s - loss: 0.0823 - acc: 0.9867     \n",
      "Epoch 9/30\n",
      "600/600 [==============================] - 9s - loss: 0.0673 - acc: 0.9850     \n",
      "Epoch 10/30\n",
      "600/600 [==============================] - 10s - loss: 0.0566 - acc: 0.9883    \n",
      "Epoch 11/30\n",
      "600/600 [==============================] - 11s - loss: 0.0545 - acc: 0.9883    \n",
      "Epoch 12/30\n",
      "600/600 [==============================] - 10s - loss: 0.0448 - acc: 0.9933    \n",
      "Epoch 13/30\n",
      "600/600 [==============================] - 10s - loss: 0.0378 - acc: 0.9933    \n",
      "Epoch 14/30\n",
      "600/600 [==============================] - 9s - loss: 0.0370 - acc: 0.9933     \n",
      "Epoch 15/30\n",
      "600/600 [==============================] - 9s - loss: 0.0381 - acc: 0.9933     \n",
      "Epoch 16/30\n",
      "600/600 [==============================] - 9s - loss: 0.0328 - acc: 0.9950     \n",
      "Epoch 17/30\n",
      "600/600 [==============================] - 9s - loss: 0.0365 - acc: 0.9883     \n",
      "Epoch 18/30\n",
      "600/600 [==============================] - 9s - loss: 0.0277 - acc: 0.9967     \n",
      "Epoch 19/30\n",
      "600/600 [==============================] - 9s - loss: 0.0216 - acc: 0.9983     \n",
      "Epoch 20/30\n",
      "600/600 [==============================] - 9s - loss: 0.0172 - acc: 0.9983     \n",
      "Epoch 21/30\n",
      "600/600 [==============================] - 9s - loss: 0.0183 - acc: 0.9950     \n",
      "Epoch 22/30\n",
      "600/600 [==============================] - 9s - loss: 0.0257 - acc: 0.9933     \n",
      "Epoch 23/30\n",
      "600/600 [==============================] - 9s - loss: 0.0139 - acc: 0.9983     \n",
      "Epoch 24/30\n",
      "600/600 [==============================] - 9s - loss: 0.0159 - acc: 0.9967     \n",
      "Epoch 25/30\n",
      "600/600 [==============================] - 9s - loss: 0.0148 - acc: 0.9967     \n",
      "Epoch 26/30\n",
      "600/600 [==============================] - 9s - loss: 0.0106 - acc: 0.9983     \n",
      "Epoch 27/30\n",
      "600/600 [==============================] - 9s - loss: 0.0099 - acc: 0.9983     \n",
      "Epoch 28/30\n",
      "600/600 [==============================] - 9s - loss: 0.0104 - acc: 1.0000     \n",
      "Epoch 29/30\n",
      "600/600 [==============================] - 9s - loss: 0.0107 - acc: 0.9967     \n",
      "Epoch 30/30\n",
      "600/600 [==============================] - 9s - loss: 0.0088 - acc: 0.9983     \n"
     ]
    },
    {
     "data": {
      "text/plain": [
       "<keras.callbacks.History at 0x7fb0ec66fac8>"
      ]
     },
     "execution_count": 25,
     "metadata": {},
     "output_type": "execute_result"
    }
   ],
   "source": [
    "happymodel1=happy_model(X_train.shape[1:])\n",
    "happymodel1.compile(\"adam\",\"binary_crossentropy\",[\"accuracy\"])\n",
    "happymodel1.fit(X_train,Y_train.T,epochs=30,batch_size=50,verbose=1)"
   ]
  },
  {
   "cell_type": "code",
   "execution_count": 26,
   "metadata": {},
   "outputs": [
    {
     "name": "stdout",
     "output_type": "stream",
     "text": [
      "150/150 [==============================] - 1s     \n",
      "Loss is 0.08384069403012594\n",
      "Test accuracy is 0.9666666706403096\n"
     ]
    }
   ],
   "source": [
    "preds=happymodel1.evaluate(X_test,Y_test.T,batch_size=32,verbose=1,sample_weight=None)\n",
    "#verbose=0 will show you nothing\n",
    "#verbose=1 will show you animated progress bar\n",
    "#verbose=2 will show you slash type of o/p\n",
    "print(\"Loss is \"+str(preds[0]))\n",
    "print(\"Test accuracy is \"+str(preds[1]))"
   ]
  },
  {
   "cell_type": "code",
   "execution_count": null,
   "metadata": {
    "collapsed": true
   },
   "outputs": [],
   "source": []
  }
 ],
 "metadata": {
  "kernelspec": {
   "display_name": "Python 3",
   "language": "python",
   "name": "python3"
  },
  "language_info": {
   "codemirror_mode": {
    "name": "ipython",
    "version": 3
   },
   "file_extension": ".py",
   "mimetype": "text/x-python",
   "name": "python",
   "nbconvert_exporter": "python",
   "pygments_lexer": "ipython3",
   "version": "3.6.3"
  }
 },
 "nbformat": 4,
 "nbformat_minor": 2
}
