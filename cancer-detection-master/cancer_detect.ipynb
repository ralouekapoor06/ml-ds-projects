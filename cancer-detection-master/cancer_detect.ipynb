{
 "cells": [
  {
   "cell_type": "code",
   "execution_count": 46,
   "metadata": {},
   "outputs": [
    {
     "name": "stdout",
     "output_type": "stream",
     "text": [
      "['radius_mean', 'texture_mean', 'perimeter_mean', 'area_mean', 'smoothness_mean', 'compactness_mean', 'concavity_mean', 'concave_points_mean', 'symmetry_mean', 'fractal_dimension_mean', 'radius_se', 'texture_se', 'perimeter_se', 'area_se', 'smoothness_se', 'compactness_se', 'concavity_se', 'concave_points_se', 'symmetry_se', 'fractal_dimension_se', 'radius_worst', 'texture_worst', 'perimeter_worst', 'area_worst', 'smoothness_worst', 'compactness_worst', 'concavity_worst', 'concave_points_worst', 'symmetry_worst']\n",
      "INFO:tensorflow:Using default config.\n",
      "INFO:tensorflow:Using config: {'_save_checkpoints_secs': 600, '_num_ps_replicas': 0, '_keep_checkpoint_max': 5, '_task_type': 'worker', '_global_id_in_cluster': 0, '_is_chief': True, '_cluster_spec': <tensorflow.python.training.server_lib.ClusterSpec object at 0x7f4b68d38110>, '_model_dir': 'can_saved', '_protocol': None, '_save_checkpoints_steps': None, '_keep_checkpoint_every_n_hours': 10000, '_service': None, '_session_config': allow_soft_placement: true\n",
      "graph_options {\n",
      "  rewrite_options {\n",
      "    meta_optimizer_iterations: ONE\n",
      "  }\n",
      "}\n",
      ", '_tf_random_seed': None, '_save_summary_steps': 100, '_device_fn': None, '_experimental_distribute': None, '_num_worker_replicas': 1, '_task_id': 0, '_log_step_count_steps': 100, '_evaluation_master': '', '_eval_distribute': None, '_train_distribute': None, '_master': ''}\n",
      "INFO:tensorflow:Calling model_fn.\n",
      "INFO:tensorflow:Done calling model_fn.\n",
      "INFO:tensorflow:Create CheckpointSaverHook.\n",
      "INFO:tensorflow:Graph was finalized.\n",
      "INFO:tensorflow:Running local_init_op.\n",
      "INFO:tensorflow:Done running local_init_op.\n",
      "INFO:tensorflow:Saving checkpoints for 0 into can_saved/model.ckpt.\n",
      "INFO:tensorflow:loss = 16.0, step = 1\n",
      "INFO:tensorflow:global_step/sec: 146.041\n",
      "INFO:tensorflow:loss = 5.0839434, step = 101 (0.687 sec)\n",
      "INFO:tensorflow:global_step/sec: 159.862\n",
      "INFO:tensorflow:loss = 9.186167, step = 201 (0.625 sec)\n",
      "INFO:tensorflow:global_step/sec: 162.947\n",
      "INFO:tensorflow:loss = 6.7674875, step = 301 (0.614 sec)\n",
      "INFO:tensorflow:global_step/sec: 164.512\n",
      "INFO:tensorflow:loss = 4.9629555, step = 401 (0.608 sec)\n",
      "INFO:tensorflow:global_step/sec: 162.561\n",
      "INFO:tensorflow:loss = 5.688139, step = 501 (0.615 sec)\n",
      "INFO:tensorflow:global_step/sec: 165.056\n",
      "INFO:tensorflow:loss = 6.0357647, step = 601 (0.608 sec)\n",
      "INFO:tensorflow:global_step/sec: 160.574\n",
      "INFO:tensorflow:loss = 7.413664, step = 701 (0.620 sec)\n",
      "INFO:tensorflow:global_step/sec: 167.416\n",
      "INFO:tensorflow:loss = 7.416609, step = 801 (0.599 sec)\n",
      "INFO:tensorflow:Saving checkpoints for 890 into can_saved/model.ckpt.\n",
      "INFO:tensorflow:Loss for final step: 0.43750298.\n"
     ]
    },
    {
     "data": {
      "text/plain": [
       "<tensorflow.python.estimator.canned.linear.LinearRegressor at 0x7f4b689a1f90>"
      ]
     },
     "execution_count": 46,
     "metadata": {},
     "output_type": "execute_result"
    }
   ],
   "source": [
    "import tensorflow as tf \n",
    "import numpy as np \n",
    "import pandas as pd \n",
    "import shutil\n",
    "import csv\n",
    "with open(\"data_train.csv\", \"rb\") as f:\n",
    "    reader = csv.reader(f)\n",
    "    i = reader.next()\n",
    "    rest = [row for row in reader]\n",
    "\n",
    "columns=i\n",
    "#FEATURES=columns[0]\n",
    "FEATURES=columns[1:len(columns)-2]\n",
    "print(FEATURES)\n",
    "LABEL=columns[len(columns)-1]\n",
    "data_train=pd.read_csv('data_train.csv')\n",
    "\n",
    "def train_data(data_train,num_epochs):\n",
    "    return tf.estimator.inputs.pandas_input_fn(\n",
    "            x=data_train,\n",
    "            y=data_train[LABEL],\n",
    "            shuffle=True,\n",
    "            batch_size=64,\n",
    "            num_epochs=num_epochs,\n",
    "            queue_capacity=1000\n",
    "    )\n",
    "\n",
    "def feature_cols():\n",
    "    inputs1=[tf.feature_column.numeric_column(k) for k in FEATURES]\n",
    "    return inputs1\n",
    "\n",
    "#tf.logging.set_verbosity(tf,logging.INFO)\n",
    "\n",
    "out_dir='can_saved'\n",
    "shutil.rmtree(out_dir,ignore_errors=True)\n",
    "\n",
    "model=tf.estimator.LinearRegressor(feature_columns=feature_cols(),model_dir=out_dir)\n",
    "\n",
    "model.train(input_fn=train_data(data_train,100))"
   ]
  },
  {
   "cell_type": "code",
   "execution_count": 43,
   "metadata": {},
   "outputs": [],
   "source": [
    "#lets evaluate\n",
    "def eval1(df):\n",
    "    return tf.estimator.inputs.pandas_input_fn(\n",
    "        x=df,\n",
    "        y=df[LABEL],\n",
    "        batch_size=64,\n",
    "        shuffle=True,\n",
    "        queue_capacity=1000\n",
    "    )"
   ]
  },
  {
   "cell_type": "raw",
   "metadata": {},
   "source": [
    "metrics=model.evaluate(input_fn=eval1(data_evaluate))\n",
    "rmse=np.sqrt(metrics['average_loss])\n",
    "print(rmse)"
   ]
  },
  {
   "cell_type": "code",
   "execution_count": null,
   "metadata": {},
   "outputs": [],
   "source": []
  }
 ],
 "metadata": {
  "kernelspec": {
   "display_name": "Python 3",
   "language": "python",
   "name": "python3"
  },
  "language_info": {
   "codemirror_mode": {
    "name": "ipython",
    "version": 2
   },
   "file_extension": ".py",
   "mimetype": "text/x-python",
   "name": "python",
   "nbconvert_exporter": "python",
   "pygments_lexer": "ipython2",
   "version": "2.7.15rc1"
  }
 },
 "nbformat": 4,
 "nbformat_minor": 2
}
